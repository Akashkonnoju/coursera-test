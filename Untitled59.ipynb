{
  "nbformat": 4,
  "nbformat_minor": 0,
  "metadata": {
    "colab": {
      "provenance": [],
      "include_colab_link": true
    },
    "kernelspec": {
      "name": "python3",
      "display_name": "Python 3"
    },
    "language_info": {
      "name": "python"
    }
  },
  "cells": [
    {
      "cell_type": "markdown",
      "metadata": {
        "id": "view-in-github",
        "colab_type": "text"
      },
      "source": [
        "<a href=\"https://colab.research.google.com/github/Akashkonnoju/coursera-test/blob/main/Untitled59.ipynb\" target=\"_parent\"><img src=\"https://colab.research.google.com/assets/colab-badge.svg\" alt=\"Open In Colab\"/></a>"
      ]
    },
    {
      "cell_type": "code",
      "execution_count": null,
      "metadata": {
        "id": "TUbYatZgi4gE"
      },
      "outputs": [],
      "source": [
        "var1 = {'model':\"sonet\",\n",
        "        'color': 'black',\n",
        "        'year': 2020}"
      ]
    },
    {
      "cell_type": "code",
      "source": [
        "type(var1)"
      ],
      "metadata": {
        "colab": {
          "base_uri": "https://localhost:8080/"
        },
        "id": "BN0Ra1SRjldp",
        "outputId": "2de7224b-99ea-4f5e-e81c-d1c7e603687a"
      },
      "execution_count": null,
      "outputs": [
        {
          "output_type": "execute_result",
          "data": {
            "text/plain": [
              "dict"
            ]
          },
          "metadata": {},
          "execution_count": 2
        }
      ]
    },
    {
      "cell_type": "code",
      "source": [
        "print(var1['color'])\n",
        "print(var1['year'])"
      ],
      "metadata": {
        "colab": {
          "base_uri": "https://localhost:8080/"
        },
        "id": "a8QDnQpEjqPi",
        "outputId": "6673caa5-ae3a-4e1a-e8ce-44e879fda721"
      },
      "execution_count": null,
      "outputs": [
        {
          "output_type": "stream",
          "name": "stdout",
          "text": [
            "black\n",
            "2020\n"
          ]
        }
      ]
    },
    {
      "cell_type": "code",
      "source": [
        "var1.keys()"
      ],
      "metadata": {
        "colab": {
          "base_uri": "https://localhost:8080/"
        },
        "id": "rXa-z_0cjsbB",
        "outputId": "2a245e29-8bad-48b8-9839-0d8b50b50b2a"
      },
      "execution_count": null,
      "outputs": [
        {
          "output_type": "execute_result",
          "data": {
            "text/plain": [
              "dict_keys(['model', 'color', 'year'])"
            ]
          },
          "metadata": {},
          "execution_count": 6
        }
      ]
    },
    {
      "cell_type": "code",
      "source": [
        "var1.values()"
      ],
      "metadata": {
        "colab": {
          "base_uri": "https://localhost:8080/"
        },
        "id": "_jN6VT0AkIWl",
        "outputId": "676ef3e8-241a-435c-c1ef-a6e1ccc974ae"
      },
      "execution_count": null,
      "outputs": [
        {
          "output_type": "execute_result",
          "data": {
            "text/plain": [
              "dict_values(['sonet', 'black', 2020])"
            ]
          },
          "metadata": {},
          "execution_count": 7
        }
      ]
    },
    {
      "cell_type": "code",
      "source": [
        "var1['color'] = 'white'\n",
        "print(var1)"
      ],
      "metadata": {
        "colab": {
          "base_uri": "https://localhost:8080/"
        },
        "id": "XHoR3XTIkNn5",
        "outputId": "ee68b72a-75b0-4313-f236-ecd6af166b92"
      },
      "execution_count": null,
      "outputs": [
        {
          "output_type": "stream",
          "name": "stdout",
          "text": [
            "{'model': 'sonet', 'color': 'white', 'year': 2020}\n"
          ]
        }
      ]
    },
    {
      "cell_type": "code",
      "source": [
        "var1.update({'year':2024})\n",
        "print(var1)"
      ],
      "metadata": {
        "colab": {
          "base_uri": "https://localhost:8080/"
        },
        "id": "jgaWFjYakZ5p",
        "outputId": "57e98c76-2c53-4218-9c27-0771be4dd669"
      },
      "execution_count": null,
      "outputs": [
        {
          "output_type": "stream",
          "name": "stdout",
          "text": [
            "{'model': 'sonet', 'color': 'white', 'year': 2024}\n"
          ]
        }
      ]
    },
    {
      "cell_type": "code",
      "source": [
        "var1['brand'] = 'kia'\n",
        "print(var1)"
      ],
      "metadata": {
        "colab": {
          "base_uri": "https://localhost:8080/"
        },
        "id": "30k1PPvpk8LD",
        "outputId": "e6bd34f9-c76a-4eba-828f-238d9013a7e6"
      },
      "execution_count": null,
      "outputs": [
        {
          "output_type": "stream",
          "name": "stdout",
          "text": [
            "{'model': 'sonet', 'color': 'white', 'year': 2024, 'brand': 'kia'}\n"
          ]
        }
      ]
    },
    {
      "cell_type": "code",
      "source": [
        "var1.pop(\"brand\")\n",
        "print(var1)"
      ],
      "metadata": {
        "colab": {
          "base_uri": "https://localhost:8080/"
        },
        "id": "Wx9qJFuGll8-",
        "outputId": "1f93c604-b264-4bea-9d48-923b75223d4d"
      },
      "execution_count": null,
      "outputs": [
        {
          "output_type": "stream",
          "name": "stdout",
          "text": [
            "{'model': 'sonet', 'color': 'white', 'year': 2024}\n"
          ]
        }
      ]
    },
    {
      "cell_type": "code",
      "source": [
        "var1.update({'jsnx':2024})\n",
        "print(var1)"
      ],
      "metadata": {
        "colab": {
          "base_uri": "https://localhost:8080/"
        },
        "id": "O1lMMg83l2_C",
        "outputId": "e7faf1cf-c3f5-4d85-8ef5-c1521073bd8b"
      },
      "execution_count": null,
      "outputs": [
        {
          "output_type": "stream",
          "name": "stdout",
          "text": [
            "{'model': 'sonet', 'color': 'white', 'year': 2024, 'jsnx': 2024}\n"
          ]
        }
      ]
    },
    {
      "cell_type": "code",
      "source": [
        "del var1['jsnx']\n",
        "print(var1)"
      ],
      "metadata": {
        "colab": {
          "base_uri": "https://localhost:8080/"
        },
        "id": "M27BtvsSmIH6",
        "outputId": "b6222f9d-a12c-4e2b-ea5b-a16e1117a280"
      },
      "execution_count": null,
      "outputs": [
        {
          "output_type": "stream",
          "name": "stdout",
          "text": [
            "{'model': 'sonet', 'color': 'white', 'year': 2024}\n"
          ]
        }
      ]
    },
    {
      "cell_type": "code",
      "source": [
        "del var1\n",
        "print(var1)"
      ],
      "metadata": {
        "colab": {
          "base_uri": "https://localhost:8080/",
          "height": 165
        },
        "id": "r3y3xyTLmRQi",
        "outputId": "d4443e70-e35d-44bb-fea6-ffb67012d07b"
      },
      "execution_count": null,
      "outputs": [
        {
          "output_type": "error",
          "ename": "NameError",
          "evalue": "name 'var1' is not defined",
          "traceback": [
            "\u001b[0;31m---------------------------------------------------------------------------\u001b[0m",
            "\u001b[0;31mNameError\u001b[0m                                 Traceback (most recent call last)",
            "\u001b[0;32m<ipython-input-14-f5fa92913a1d>\u001b[0m in \u001b[0;36m<cell line: 2>\u001b[0;34m()\u001b[0m\n\u001b[1;32m      1\u001b[0m \u001b[0;32mdel\u001b[0m \u001b[0mvar1\u001b[0m\u001b[0;34m\u001b[0m\u001b[0;34m\u001b[0m\u001b[0m\n\u001b[0;32m----> 2\u001b[0;31m \u001b[0mprint\u001b[0m\u001b[0;34m(\u001b[0m\u001b[0mvar1\u001b[0m\u001b[0;34m)\u001b[0m\u001b[0;34m\u001b[0m\u001b[0;34m\u001b[0m\u001b[0m\n\u001b[0m",
            "\u001b[0;31mNameError\u001b[0m: name 'var1' is not defined"
          ]
        }
      ]
    },
    {
      "cell_type": "code",
      "source": [],
      "metadata": {
        "id": "w0ZjZmc1mZEv"
      },
      "execution_count": null,
      "outputs": []
    },
    {
      "cell_type": "markdown",
      "source": [
        "\"r\" - Read - Default value. Opens a file for reading, error if the file does not exist\n",
        "\n",
        "\"a\" - Append - Opens a file for appending, creates the file if it does not exist\n",
        "\n",
        "\"w\" - Write - Opens a file for writing, creates the file if it does not exist\n",
        "\n",
        "\"x\" - Create - Creates the specified file, returns an error if the file exists"
      ],
      "metadata": {
        "id": "tM4U1HmCnMcN"
      }
    },
    {
      "cell_type": "code",
      "source": [
        "f  = open(\"/content/DWSample1-TXT.txt\",'r')\n",
        "print(f.read())\n",
        "f.close()"
      ],
      "metadata": {
        "colab": {
          "base_uri": "https://localhost:8080/"
        },
        "id": "KGgOLt30nNMv",
        "outputId": "48b79169-2b74-4846-a987-4e0d345262af"
      },
      "execution_count": null,
      "outputs": [
        {
          "output_type": "stream",
          "name": "stdout",
          "text": [
            "Utilitatis causa amicitia est quaesita.\n",
            "Lorem ipsum dolor sit amet, consectetur adipiscing elit. Collatio igitur ista te nihil iuvat. Honesta oratio, Socratica, Platonis etiam. Primum in nostrane potestate est, quid meminerimus? Duo Reges: constructio interrete. Quid, si etiam iucunda memoria est praeteritorum malorum? Si quidem, inquit, tollerem, sed relinquo. An nisi populari fama?\n",
            "\n",
            "Quamquam id quidem licebit iis existimare, qui legerint. Summum a vobis bonum voluptas dicitur. At hoc in eo M. Refert tamen, quo modo. Quid sequatur, quid repugnet, vident. Iam id ipsum absurdum, maximum malum neglegi.\n"
          ]
        }
      ]
    },
    {
      "cell_type": "code",
      "source": [
        "print(f.readline())\n",
        "print(f.readline())"
      ],
      "metadata": {
        "colab": {
          "base_uri": "https://localhost:8080/",
          "height": 165
        },
        "id": "Ques7zEbn-Cj",
        "outputId": "0c8d88e7-cabb-4906-87b1-e442ce7411cf"
      },
      "execution_count": null,
      "outputs": [
        {
          "output_type": "error",
          "ename": "ValueError",
          "evalue": "I/O operation on closed file.",
          "traceback": [
            "\u001b[0;31m---------------------------------------------------------------------------\u001b[0m",
            "\u001b[0;31mValueError\u001b[0m                                Traceback (most recent call last)",
            "\u001b[0;32m<ipython-input-23-47967dcc4e23>\u001b[0m in \u001b[0;36m<cell line: 1>\u001b[0;34m()\u001b[0m\n\u001b[0;32m----> 1\u001b[0;31m \u001b[0mprint\u001b[0m\u001b[0;34m(\u001b[0m\u001b[0mf\u001b[0m\u001b[0;34m.\u001b[0m\u001b[0mreadline\u001b[0m\u001b[0;34m(\u001b[0m\u001b[0;34m)\u001b[0m\u001b[0;34m)\u001b[0m\u001b[0;34m\u001b[0m\u001b[0;34m\u001b[0m\u001b[0m\n\u001b[0m\u001b[1;32m      2\u001b[0m \u001b[0mprint\u001b[0m\u001b[0;34m(\u001b[0m\u001b[0mf\u001b[0m\u001b[0;34m.\u001b[0m\u001b[0mreadline\u001b[0m\u001b[0;34m(\u001b[0m\u001b[0;34m)\u001b[0m\u001b[0;34m)\u001b[0m\u001b[0;34m\u001b[0m\u001b[0;34m\u001b[0m\u001b[0m\n",
            "\u001b[0;31mValueError\u001b[0m: I/O operation on closed file."
          ]
        }
      ]
    },
    {
      "cell_type": "code",
      "source": [
        "f  = open(\"/content/DWSample1-TXT.txt\",'a')\n",
        "f.write(\"\\nThis is the new line\")\n",
        "f.close()\n",
        "f  = open(\"/content/DWSample1-TXT.txt\",'r')\n",
        "print(f.read())"
      ],
      "metadata": {
        "colab": {
          "base_uri": "https://localhost:8080/"
        },
        "id": "JOMbjT76oSzr",
        "outputId": "7c50a04d-f88a-4081-eeb5-5d8e59e85172"
      },
      "execution_count": null,
      "outputs": [
        {
          "output_type": "stream",
          "name": "stdout",
          "text": [
            "Utilitatis causa amicitia est quaesita.\n",
            "Lorem ipsum dolor sit amet, consectetur adipiscing elit. Collatio igitur ista te nihil iuvat. Honesta oratio, Socratica, Platonis etiam. Primum in nostrane potestate est, quid meminerimus? Duo Reges: constructio interrete. Quid, si etiam iucunda memoria est praeteritorum malorum? Si quidem, inquit, tollerem, sed relinquo. An nisi populari fama?\n",
            "\n",
            "Quamquam id quidem licebit iis existimare, qui legerint. Summum a vobis bonum voluptas dicitur. At hoc in eo M. Refert tamen, quo modo. Quid sequatur, quid repugnet, vident. Iam id ipsum absurdum, maximum malum neglegi.\n",
            "This is the new line\n"
          ]
        }
      ]
    },
    {
      "cell_type": "code",
      "source": [
        "f  = open(\"/content/DWSample1-TXT.txt\",'w')\n",
        "f.write(\"\\nThis is the new line\")\n",
        "f.close()\n",
        "f  = open(\"/content/DWSample1-TXT.txt\",'r')\n",
        "print(f.read())"
      ],
      "metadata": {
        "colab": {
          "base_uri": "https://localhost:8080/"
        },
        "id": "kkbOgr80py9T",
        "outputId": "dedfbf01-5218-4f1e-ebfc-45576ee10033"
      },
      "execution_count": null,
      "outputs": [
        {
          "output_type": "stream",
          "name": "stdout",
          "text": [
            "\n",
            "This is the new line\n"
          ]
        }
      ]
    },
    {
      "cell_type": "code",
      "source": [],
      "metadata": {
        "id": "DoZiTeOcqTk7"
      },
      "execution_count": null,
      "outputs": []
    }
  ]
}